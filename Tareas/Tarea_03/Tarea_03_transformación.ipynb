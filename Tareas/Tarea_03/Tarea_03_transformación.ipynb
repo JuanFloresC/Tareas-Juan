{
  "nbformat": 4,
  "nbformat_minor": 0,
  "metadata": {
    "colab": {
      "provenance": []
    },
    "kernelspec": {
      "name": "python3",
      "display_name": "Python 3"
    },
    "language_info": {
      "name": "python"
    }
  },
  "cells": [
    {
      "cell_type": "code",
      "execution_count": 3,
      "metadata": {
        "id": "V2xKKOqLRwUJ"
      },
      "outputs": [],
      "source": [
        "import pandas as pd\n",
        "df = pd.read_excel ('/content/drive/MyDrive/Tarea 3/Tarea_03 Juan Flores.xlsx')\n",
        "Tarea03 = df.to_csv('/content/drive/MyDrive/Tarea 3/Tarea_03 Juan Flores.csv')\n"
      ]
    }
  ]
}