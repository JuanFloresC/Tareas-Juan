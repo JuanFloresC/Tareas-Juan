{
  "nbformat": 4,
  "nbformat_minor": 0,
  "metadata": {
    "colab": {
      "provenance": []
    },
    "kernelspec": {
      "name": "python3",
      "display_name": "Python 3"
    },
    "language_info": {
      "name": "python"
    }
  },
  "cells": [
    {
      "cell_type": "markdown",
      "source": [
        "Problema 1: Programa que imprima los números del 1 al 100"
      ],
      "metadata": {
        "id": "mtvHDuzqkcIp"
      }
    },
    {
      "cell_type": "code",
      "execution_count": null,
      "metadata": {
        "id": "yiK2zzyYkbkf"
      },
      "outputs": [],
      "source": [
        "x = 1\n",
        "while x <= 100:\n",
        "    print(x)\n",
        "    x += 1\n"
      ]
    },
    {
      "cell_type": "markdown",
      "source": [
        "Existe la variable x que es igual a uno. Se crea un loop con while donde se imprime x y se le va sumando uno mientras el valor sea menor o igual a 100\n"
      ],
      "metadata": {
        "id": "9jUXg-ITn3CR"
      }
    },
    {
      "cell_type": "markdown",
      "source": [
        "Problema 2:Hacer un programa que imprima los números del 1 al 100 que sean divisibles entre 3 (con resto 0)"
      ],
      "metadata": {
        "id": "6rgnovr2oyCY"
      }
    },
    {
      "cell_type": "code",
      "source": [
        "x = 1\n",
        "while x <= 100:\n",
        "    if x % 3 == 0:\n",
        "        print(x)\n",
        "    x += 1\n"
      ],
      "metadata": {
        "id": "yVr1EAjmo5sv"
      },
      "execution_count": null,
      "outputs": []
    },
    {
      "cell_type": "markdown",
      "source": [
        "Se hace lo mismo del ejercio anterior. Es decir existe la variable x y se crea un loop donde x menor o igual a 100, solo si x divido en 2 es igual a 0 se le suma 1."
      ],
      "metadata": {
        "id": "QBqixoGCzqCH"
      }
    },
    {
      "cell_type": "markdown",
      "source": [
        "Problema 3:Realiza el algoritmo para un sumador de dos números. Si el resultado es menor a 100 se mostrará el mensaje \"menor a 100\", si el resultado es mayor a 100, pero menor a 150 mostrará el mensaje \"mayor a 100\", pero si es mayor a 150 mostrará el mensaje \"mayor a 150\"."
      ],
      "metadata": {
        "id": "IfkfTbUoz9Wm"
      }
    },
    {
      "cell_type": "code",
      "source": [
        "a = float (input(\"ingrese un número\"))\n",
        "b = float (input(\"ingrese un número\"))\n",
        "print (a+b)\n",
        "if (a+b < 100):\n",
        "  print (\"Menor que 100\")\n",
        "elif (a+b > 100 and a+b < 150):\n",
        "  print (\"Mayor que 100\")\n",
        "elif (a+b > 150):\n",
        "  print: (\"Mayor que 150\")\n",
        "elif (a+b == 100):\n",
        "  print (\"Ha dado 100 😮😮\")\n",
        "elif (a+b == 150):\n",
        "  print (\"Ha dado 150 😮😮\")"
      ],
      "metadata": {
        "colab": {
          "base_uri": "https://localhost:8080/"
        },
        "id": "U2_JinGM0GQs",
        "outputId": "4853405e-8ca0-4d35-f747-8de2883cd90e"
      },
      "execution_count": null,
      "outputs": [
        {
          "output_type": "stream",
          "name": "stdout",
          "text": [
            "ingrese un número3.4\n",
            "ingrese un número79.77\n",
            "83.17\n",
            "Menor que 100\n"
          ]
        }
      ]
    },
    {
      "cell_type": "markdown",
      "source": [
        "Se crean dos variables con int, para que permitir el uso de números decimales, luego se pide que se sumen ambos valores. Se sigue con una lista de condicionales para cada caso y que de esta forma entregue un mensaje distinto."
      ],
      "metadata": {
        "id": "bVg_YrTt2lx3"
      }
    },
    {
      "cell_type": "markdown",
      "source": [
        "Generar un programa que combine variables, tipos de datos y una condicional en Python (hacer una función que evalúe si el usuario es mayor de edad y si le gusta la programación, que envíe diferentes textos según la respuesta del usuario"
      ],
      "metadata": {
        "id": "HcZZzMsP3mTa"
      }
    },
    {
      "cell_type": "code",
      "source": [
        "edad = float (input (\"Ingresa tu edad\"))\n",
        "print (\"¿Te gusta programar? Digita 0 para sí y 1 para no\")\n",
        "gusta_programar = float  (input (\"0 o 1\"))\n",
        "\n",
        "if (edad < 18) and (gusta_programar == 0):\n",
        "  print (\"Eres menor de edad y te gusta programar \" )\n",
        "elif(edad < 18 ) and (gusta_programar== 1 ):\n",
        "  print (\"Eres menor de edad y no te gusta programar \")\n",
        "elif (edad >= 18) and (gusta_programar == 0):\n",
        "  print(\"Eres mayor de edad y te gusta programar\")\n",
        "elif(edad >=18 ) and (gusta_programar == 1):\n",
        "  print (\"Eres mayor de edad y no te gusta programar\")\n",
        "else:\n",
        "  print(\"Favor de ingresar 0 o 1 según corresponda\")\n",
        "\n"
      ],
      "metadata": {
        "colab": {
          "base_uri": "https://localhost:8080/"
        },
        "id": "pv4KqcE96jSm",
        "outputId": "5a0623a0-de15-4b1f-86dd-ffb527af53c1"
      },
      "execution_count": null,
      "outputs": [
        {
          "output_type": "stream",
          "name": "stdout",
          "text": [
            "Ingresa tu edad19\n",
            "¿Te gusta programar? Digita 0 para sí y 1 para no\n",
            "0 o 11\n",
            "Eres mayor de edad y no te gusta programar\n"
          ]
        }
      ]
    },
    {
      "cell_type": "markdown",
      "source": [
        "Primero le pide al usuario ingresar la variable edad con un input, se limita con un int a números enteros. Luego se imprime un mensaje para dejar claro que 0 es sí y 1 es no. Posteriormente se le pide al usuario se le pide ingresar el 0 o 1 según corresponda. El else del final es para el caso donde el usuario ingrese un número distinto a 0 o 1.\n",
        "Después de eso se comprueba si es mayor o menor de edad y si le gusta o no programar.\n"
      ],
      "metadata": {
        "id": "4sTk1tjA4MY6"
      }
    }
  ]
}